{
 "cells": [
  {
   "cell_type": "markdown",
   "metadata": {},
   "source": [
    "## 1. Requirement"
   ]
  },
  {
   "cell_type": "code",
   "execution_count": 1,
   "metadata": {},
   "outputs": [],
   "source": [
    "import torch\n",
    "import torch.nn as nn\n",
    "import torch.nn.functional as F\n",
    "import torch.optim as optim\n",
    "import numpy as np\n",
    "\n",
    "from art.attacks import FastGradientMethod\n",
    "from art.attacks import DeepFool\n",
    "from art.attacks import SaliencyMapMethod\n",
    "from art.attacks import ProjectedGradientDescent\n",
    "from art.classifiers import PyTorchClassifier\n",
    "from art.utils import load_mnist"
   ]
  },
  {
   "cell_type": "markdown",
   "metadata": {},
   "source": [
    "## 2. Model"
   ]
  },
  {
   "cell_type": "code",
   "execution_count": 2,
   "metadata": {},
   "outputs": [],
   "source": [
    "class MnistModel(nn.Module):\n",
    "    def __init__(self):\n",
    "        super(MnistModel, self).__init__()\n",
    "        # mnist의 경우 28*28의 흑백이미지(input channel=1)이다.\n",
    "        self.conv1 = nn.Conv2d(1, 32, kernel_size = 5, padding=2)\n",
    "        # feature map의 크기는 14*14가 된다\n",
    "        # 첫번재 convolution layer에서 나온 output channel이 32이므로 2번째 input도 32\n",
    "        self.conv2 = nn.Conv2d(32, 64, kernel_size = 5, padding=2)\n",
    "        # feature map의 크기는 7*7이 된다\n",
    "        # fc -> fully connected, fc는 모든 weight를 고려해서 만들기 때문에 cnn에서는 locally connected를 이용하여 만든다.\n",
    "        # nn.Linear에서는 conv를 거친 feature map을 1차원으로 전부 바꿔서 input을 한다. 이게 64*7*7\n",
    "        self.fc1 = nn.Linear(64*7*7, 1024)\n",
    "        self.fc2 = nn.Linear(1024, 10)\n",
    "\n",
    "    def forward(self, x):\n",
    "        x = F.max_pool2d(F.relu(self.conv1(x)), 2)\n",
    "        x = F.max_pool2d(F.relu(self.conv2(x)), 2)\n",
    "        x = x.view(-1, 64*7*7) # linear에 들어갈 수 있도록 reshape\n",
    "        x = F.relu(self.fc1(x)) # fully connected에 relu 적용\n",
    "        x = F.dropout(x, training=self.training) # 가중치 감소만으로는 overfit을 해결하기가 어려움, 그래서 뉴런의 연결을 임의로 삭제\n",
    "        x = self.fc2(x)\n",
    "        return F.log_softmax(x, dim=1)"
   ]
  },
  {
   "cell_type": "markdown",
   "metadata": {},
   "source": [
    "## 3. Load MNIST dataset"
   ]
  },
  {
   "cell_type": "code",
   "execution_count": 3,
   "metadata": {},
   "outputs": [],
   "source": [
    "(x_train, y_train), (x_test, y_test), min_pixel_value, max_pixel_value = load_mnist()\n",
    "\n",
    "x_train = np.swapaxes(x_train, 1, 3).astype(np.float32)\n",
    "x_test = np.swapaxes(x_test, 1, 3).astype(np.float32)"
   ]
  },
  {
   "cell_type": "markdown",
   "metadata": {},
   "source": [
    "## 4. Load the models"
   ]
  },
  {
   "cell_type": "code",
   "execution_count": 4,
   "metadata": {},
   "outputs": [
    {
     "name": "stdout",
     "output_type": "stream",
     "text": [
      "CUDA available!\n"
     ]
    }
   ],
   "source": [
    "is_cuda = torch.cuda.is_available()\n",
    "device = torch.device('cuda' if is_cuda else 'cpu')\n",
    "if is_cuda: print(\"CUDA available!\")"
   ]
  },
  {
   "cell_type": "code",
   "execution_count": 5,
   "metadata": {},
   "outputs": [
    {
     "name": "stdout",
     "output_type": "stream",
     "text": [
      "2 clean models loaded\n"
     ]
    }
   ],
   "source": [
    "models = []\n",
    "\n",
    "model_path = './model/mnist_um_art.pth'\n",
    "model = MnistModel().to(device)\n",
    "model.load_state_dict(torch.load(model_path, map_location=device))\n",
    "models.append(model)\n",
    "\n",
    "model_path = './model/mnist_um_art.pth'\n",
    "model = MnistModel().to(device)\n",
    "model.load_state_dict(torch.load(model_path, map_location=device))\n",
    "models.append(model)\n",
    "\n",
    "print(\"2 clean models loaded\")"
   ]
  },
  {
   "cell_type": "markdown",
   "metadata": {},
   "source": [
    "## 5. Create the ART classifier"
   ]
  },
  {
   "cell_type": "code",
   "execution_count": 6,
   "metadata": {},
   "outputs": [
    {
     "name": "stdout",
     "output_type": "stream",
     "text": [
      "classifiers created\n"
     ]
    }
   ],
   "source": [
    "criterion = nn.CrossEntropyLoss()\n",
    "\n",
    "# 0-um, 1-trained\n",
    "classifiers = []\n",
    "for model in models:\n",
    "    optimizer = optim.SGD(model.parameters(), lr=0.01, momentum=0.5)\n",
    "    classifier = PyTorchClassifier(model=model, clip_values=(min_pixel_value, max_pixel_value), loss=criterion,\n",
    "                               optimizer=optimizer, input_shape=(1, 28, 28), nb_classes=10)\n",
    "    classifiers.append(classifier)\n",
    "\n",
    "print(\"classifiers created\")"
   ]
  },
  {
   "cell_type": "markdown",
   "metadata": {},
   "source": [
    "## 6. Generate adversarial test and train examples"
   ]
  },
  {
   "cell_type": "code",
   "execution_count": 7,
   "metadata": {},
   "outputs": [
    {
     "name": "stdout",
     "output_type": "stream",
     "text": [
      "FGSM example generated\n"
     ]
    }
   ],
   "source": [
    "adv_tests = []\n",
    "adv_trains = []\n",
    "trained = classifiers[1]\n",
    "\n",
    "\n",
    "Linf1_attack = FastGradientMethod(classifier=trained, eps=0.3)\n",
    "\n",
    "Linf1_x_test_adv = Linf1_attack.generate(x=x_test)\n",
    "adv_tests.append(Linf1_x_test_adv)\n",
    "\n",
    "Linf1_x_train_adv = Linf1_attack.generate(x=x_train)\n",
    "adv_trains.append(Linf1_x_train_adv)\n",
    "\n",
    "print('FGSM example generated')"
   ]
  },
  {
   "cell_type": "code",
   "execution_count": 8,
   "metadata": {},
   "outputs": [
    {
     "name": "stdout",
     "output_type": "stream",
     "text": [
      "PGD example generated\n"
     ]
    }
   ],
   "source": [
    "Linf2_attack = ProjectedGradientDescent(classifier=trained, eps=0.3)\n",
    "\n",
    "Linf2_x_test_adv = Linf2_attack.generate(x=x_test)\n",
    "adv_tests.append(Linf2_x_test_adv)\n",
    "\n",
    "Linf2_x_train_adv = Linf2_attack.generate(x=x_train)\n",
    "adv_trains.append(Linf2_x_train_adv)\n",
    "\n",
    "print('PGD example generated')"
   ]
  },
  {
   "cell_type": "code",
   "execution_count": 9,
   "metadata": {},
   "outputs": [
    {
     "name": "stdout",
     "output_type": "stream",
     "text": [
      "JSMA example generated\n"
     ]
    }
   ],
   "source": [
    "L0_attack = SaliencyMapMethod(classifier=trained)\n",
    "\n",
    "L0_x_test_adv = L0_attack.generate(x=x_test)\n",
    "adv_tests.append(L0_x_test_adv)\n",
    "\n",
    "L0_x_train_adv = L0_attack.generate(x=x_train)\n",
    "adv_trains.append(L0_x_train_adv)\n",
    "\n",
    "print('JSMA example generated')"
   ]
  },
  {
   "cell_type": "code",
   "execution_count": 10,
   "metadata": {},
   "outputs": [
    {
     "name": "stdout",
     "output_type": "stream",
     "text": [
      "Deepfool example generated\n"
     ]
    }
   ],
   "source": [
    "L2_attack = DeepFool(classifier=trained)\n",
    "\n",
    "L2_x_test_adv = L2_attack.generate(x=x_test)\n",
    "adv_tests.append(L2_x_test_adv)\n",
    "\n",
    "L2_x_train_adv = L2_attack.generate(x=x_train)\n",
    "adv_trains.append(L2_x_train_adv)\n",
    "\n",
    "print('Deepfool example generated')"
   ]
  },
  {
   "cell_type": "markdown",
   "metadata": {},
   "source": [
    "## 7. Train model"
   ]
  },
  {
   "cell_type": "code",
   "execution_count": 12,
   "metadata": {},
   "outputs": [
    {
     "name": "stdout",
     "output_type": "stream",
     "text": [
      "Training with adversarial example...\n",
      "\n",
      "Train 0 done\n",
      "Train 1 done\n",
      "Train 2 done\n",
      "Train 3 done\n"
     ]
    }
   ],
   "source": [
    "print(\"Training with adversarial example...\\n\")\n",
    "\n",
    "for i, (x_train_adv) in enumerate(adv_trains):\n",
    "    classifiers[1].fit(x_train_adv, y_train, batch_size=64, nb_epochs=30)\n",
    "    print('Train {} done'.format(i))"
   ]
  },
  {
   "cell_type": "markdown",
   "metadata": {},
   "source": [
    "## 8. Evaluate model on adversarial examples"
   ]
  },
  {
   "cell_type": "code",
   "execution_count": 14,
   "metadata": {},
   "outputs": [
    {
     "name": "stdout",
     "output_type": "stream",
     "text": [
      "model #: 0-um, 1-trained\n",
      "test #: 0-fgsm, 1-pgd, 2-jsma, 3-deepfool\n",
      "\n",
      "model #0\n",
      "Accuracy on benign test examples: 99.03%\n",
      "Accuracy on model with adversarial test #0 examples: 3.04%\n",
      "Accuracy on model with adversarial test #1 examples: 0.76%\n",
      "Accuracy on model with adversarial test #2 examples: 56.67%\n",
      "Accuracy on model with adversarial test #3 examples: 40.47%\n",
      "\n",
      "model #1\n",
      "Accuracy on benign test examples: 98.92999999999999%\n",
      "Accuracy on model with adversarial test #0 examples: 95.59%\n",
      "Accuracy on model with adversarial test #1 examples: 95.54%\n",
      "Accuracy on model with adversarial test #2 examples: 82.47%\n",
      "Accuracy on model with adversarial test #3 examples: 98.83999999999999%\n"
     ]
    }
   ],
   "source": [
    "models_accuracy = []\n",
    "\n",
    "print('model #: 0-um, 1-trained')\n",
    "print('test #: 0-fgsm, 1-pgd, 2-jsma, 3-deepfool')\n",
    "\n",
    "# test order: 0-fgsm, 1-pgd, 2-jsma, 3-deepfool\n",
    "for i, (classifier) in enumerate(classifiers):\n",
    "    print('\\nmodel #{}'.format(i))\n",
    "    model_accuracy = []\n",
    "    predictions = classifier.predict(x_test)\n",
    "    accuracy = np.sum(np.argmax(predictions, axis=1) == np.argmax(y_test, axis=1)) / len(y_test)\n",
    "    print('Accuracy on benign test examples: {}%'.format(accuracy * 100))\n",
    "    model_accuracy.append(accuracy)\n",
    "    for j, (x_test_adv) in enumerate(adv_tests):\n",
    "        predictions = classifier.predict(x_test_adv)\n",
    "        accuracy = np.sum(np.argmax(predictions, axis=1) == np.argmax(y_test, axis=1)) / len(y_test)\n",
    "        print('Accuracy on model with adversarial test #{} examples: {}%'.format(j, accuracy * 100))\n",
    "        model_accuracy.append(accuracy)\n",
    "    models_accuracy.append(model_accuracy)"
   ]
  },
  {
   "cell_type": "markdown",
   "metadata": {},
   "source": [
    "## 9. Result"
   ]
  },
  {
   "cell_type": "code",
   "execution_count": 15,
   "metadata": {},
   "outputs": [
    {
     "data": {
      "text/html": [
       "<div>\n",
       "<style scoped>\n",
       "    .dataframe tbody tr th:only-of-type {\n",
       "        vertical-align: middle;\n",
       "    }\n",
       "\n",
       "    .dataframe tbody tr th {\n",
       "        vertical-align: top;\n",
       "    }\n",
       "\n",
       "    .dataframe thead th {\n",
       "        text-align: right;\n",
       "    }\n",
       "</style>\n",
       "<table border=\"1\" class=\"dataframe\">\n",
       "  <thead>\n",
       "    <tr style=\"text-align: right;\">\n",
       "      <th></th>\n",
       "      <th>clean</th>\n",
       "      <th>trained</th>\n",
       "    </tr>\n",
       "  </thead>\n",
       "  <tbody>\n",
       "    <tr>\n",
       "      <th>Benign</th>\n",
       "      <td>0.9903</td>\n",
       "      <td>0.9893</td>\n",
       "    </tr>\n",
       "    <tr>\n",
       "      <th>FGSM</th>\n",
       "      <td>0.0304</td>\n",
       "      <td>0.9559</td>\n",
       "    </tr>\n",
       "    <tr>\n",
       "      <th>PGD</th>\n",
       "      <td>0.0076</td>\n",
       "      <td>0.9554</td>\n",
       "    </tr>\n",
       "    <tr>\n",
       "      <th>JSMA</th>\n",
       "      <td>0.5667</td>\n",
       "      <td>0.8247</td>\n",
       "    </tr>\n",
       "    <tr>\n",
       "      <th>Deepfool</th>\n",
       "      <td>0.4047</td>\n",
       "      <td>0.9884</td>\n",
       "    </tr>\n",
       "  </tbody>\n",
       "</table>\n",
       "</div>"
      ],
      "text/plain": [
       "           clean  trained\n",
       "Benign    0.9903   0.9893\n",
       "FGSM      0.0304   0.9559\n",
       "PGD       0.0076   0.9554\n",
       "JSMA      0.5667   0.8247\n",
       "Deepfool  0.4047   0.9884"
      ]
     },
     "execution_count": 15,
     "metadata": {},
     "output_type": "execute_result"
    }
   ],
   "source": [
    "import pandas as pd\n",
    "from pandas import DataFrame\n",
    "\n",
    "data = {\n",
    "    'clean': models_accuracy[0],\n",
    "    'trained': models_accuracy[1],\n",
    "}\n",
    "\n",
    "columns = ['clean', 'trained']\n",
    "idx = ['Benign' ,'FGSM', 'PGD', 'JSMA', 'Deepfool']\n",
    "DataFrame(data, columns=columns, index=idx)"
   ]
  },
  {
   "cell_type": "markdown",
   "metadata": {},
   "source": [
    "## 10. Save trained model"
   ]
  },
  {
   "cell_type": "code",
   "execution_count": 16,
   "metadata": {},
   "outputs": [],
   "source": [
    "model_save = models[1]\n",
    "PATH = './model/mnist_all_art.pth'\n",
    "torch.save(model_save.state_dict(), PATH)"
   ]
  }
 ],
 "metadata": {
  "kernelspec": {
   "display_name": "Python 3",
   "language": "python",
   "name": "python3"
  },
  "language_info": {
   "codemirror_mode": {
    "name": "ipython",
    "version": 3
   },
   "file_extension": ".py",
   "mimetype": "text/x-python",
   "name": "python",
   "nbconvert_exporter": "python",
   "pygments_lexer": "ipython3",
   "version": "3.6.5"
  }
 },
 "nbformat": 4,
 "nbformat_minor": 2
}
